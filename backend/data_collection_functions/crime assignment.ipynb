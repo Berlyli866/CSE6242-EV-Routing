{
 "cells": [
  {
   "cell_type": "code",
   "execution_count": 136,
   "metadata": {},
   "outputs": [],
   "source": [
    "import geojson\n",
    "import pandas as pd \n",
    "import geopandas as gpd\n",
    "import numpy as np\n",
    "import datetime\n",
    "import itertools\n",
    "from operator import itemgetter\n",
    "from scipy.spatial import cKDTree\n",
    "from shapely.geometry import Point, LineString\n",
    "import warnings\n",
    "warnings.filterwarnings(\"ignore\")\n"
   ]
  },
  {
   "cell_type": "code",
   "execution_count": 3,
   "metadata": {},
   "outputs": [],
   "source": [
    "with open(\"Atlanta _way.geojson\") as f:\n",
    "    gj = geojson.load(f)\n",
    "features = gj['features'][0]"
   ]
  },
  {
   "cell_type": "code",
   "execution_count": 15,
   "metadata": {},
   "outputs": [],
   "source": [
    "file = open(\"Atlanta _way.geojson\")\n",
    "df = gpd.read_file(file)"
   ]
  },
  {
   "cell_type": "code",
   "execution_count": 24,
   "metadata": {},
   "outputs": [
    {
     "data": {
      "text/html": [
       "<div>\n",
       "<style scoped>\n",
       "    .dataframe tbody tr th:only-of-type {\n",
       "        vertical-align: middle;\n",
       "    }\n",
       "\n",
       "    .dataframe tbody tr th {\n",
       "        vertical-align: top;\n",
       "    }\n",
       "\n",
       "    .dataframe thead th {\n",
       "        text-align: right;\n",
       "    }\n",
       "</style>\n",
       "<table border=\"1\" class=\"dataframe\">\n",
       "  <thead>\n",
       "    <tr style=\"text-align: right;\">\n",
       "      <th></th>\n",
       "      <th>id</th>\n",
       "      <th>geometry</th>\n",
       "    </tr>\n",
       "  </thead>\n",
       "  <tbody>\n",
       "    <tr>\n",
       "      <th>0</th>\n",
       "      <td>way/9106166</td>\n",
       "      <td>LINESTRING (-84.30199 33.59314, -84.30203 33.5...</td>\n",
       "    </tr>\n",
       "    <tr>\n",
       "      <th>1</th>\n",
       "      <td>way/9106184</td>\n",
       "      <td>LINESTRING (-84.44365 33.64577, -84.44400 33.6...</td>\n",
       "    </tr>\n",
       "    <tr>\n",
       "      <th>2</th>\n",
       "      <td>way/9106187</td>\n",
       "      <td>LINESTRING (-84.44627 33.64505, -84.44617 33.6...</td>\n",
       "    </tr>\n",
       "  </tbody>\n",
       "</table>\n",
       "</div>"
      ],
      "text/plain": [
       "            id                                           geometry\n",
       "0  way/9106166  LINESTRING (-84.30199 33.59314, -84.30203 33.5...\n",
       "1  way/9106184  LINESTRING (-84.44365 33.64577, -84.44400 33.6...\n",
       "2  way/9106187  LINESTRING (-84.44627 33.64505, -84.44617 33.6..."
      ]
     },
     "execution_count": 24,
     "metadata": {},
     "output_type": "execute_result"
    }
   ],
   "source": [
    "way=df[['id','geometry']]\n",
    "way.head(3)"
   ]
  },
  {
   "cell_type": "markdown",
   "metadata": {},
   "source": [
    "# deal with crime data "
   ]
  },
  {
   "cell_type": "code",
   "execution_count": 211,
   "metadata": {},
   "outputs": [],
   "source": [
    "crime = pd.read_csv(\"filter_region_crime_new.csv\").iloc[:,1:]"
   ]
  },
  {
   "cell_type": "code",
   "execution_count": 212,
   "metadata": {},
   "outputs": [],
   "source": [
    "crime['date']=pd.to_datetime(crime['date'])"
   ]
  },
  {
   "cell_type": "code",
   "execution_count": 213,
   "metadata": {},
   "outputs": [
    {
     "data": {
      "text/html": [
       "<div>\n",
       "<style scoped>\n",
       "    .dataframe tbody tr th:only-of-type {\n",
       "        vertical-align: middle;\n",
       "    }\n",
       "\n",
       "    .dataframe tbody tr th {\n",
       "        vertical-align: top;\n",
       "    }\n",
       "\n",
       "    .dataframe thead th {\n",
       "        text-align: right;\n",
       "    }\n",
       "</style>\n",
       "<table border=\"1\" class=\"dataframe\">\n",
       "  <thead>\n",
       "    <tr style=\"text-align: right;\">\n",
       "      <th></th>\n",
       "      <th>beat</th>\n",
       "      <th>crime</th>\n",
       "      <th>date</th>\n",
       "      <th>lat</th>\n",
       "      <th>location</th>\n",
       "      <th>long</th>\n",
       "      <th>neighborhood</th>\n",
       "      <th>npu</th>\n",
       "      <th>number</th>\n",
       "    </tr>\n",
       "  </thead>\n",
       "  <tbody>\n",
       "    <tr>\n",
       "      <th>0</th>\n",
       "      <td>509</td>\n",
       "      <td>LARCENY-NON VEHICLE</td>\n",
       "      <td>2010-10-31</td>\n",
       "      <td>33.77101</td>\n",
       "      <td>610 SPRING ST NW</td>\n",
       "      <td>-84.38895</td>\n",
       "      <td>Downtown</td>\n",
       "      <td>M</td>\n",
       "      <td>103040029.0</td>\n",
       "    </tr>\n",
       "    <tr>\n",
       "      <th>1</th>\n",
       "      <td>401</td>\n",
       "      <td>AUTO THEFT</td>\n",
       "      <td>2010-10-31</td>\n",
       "      <td>33.74057</td>\n",
       "      <td>850 OAK ST SW</td>\n",
       "      <td>-84.41680</td>\n",
       "      <td>West End</td>\n",
       "      <td>T</td>\n",
       "      <td>103040061.0</td>\n",
       "    </tr>\n",
       "    <tr>\n",
       "      <th>2</th>\n",
       "      <td>301</td>\n",
       "      <td>LARCENY-FROM VEHICLE</td>\n",
       "      <td>2010-10-31</td>\n",
       "      <td>33.71803</td>\n",
       "      <td>1344 METROPOLITAN PKWY SW</td>\n",
       "      <td>-84.40774</td>\n",
       "      <td>Capitol View Manor</td>\n",
       "      <td>X</td>\n",
       "      <td>103040169.0</td>\n",
       "    </tr>\n",
       "  </tbody>\n",
       "</table>\n",
       "</div>"
      ],
      "text/plain": [
       "  beat                 crime       date       lat                   location  \\\n",
       "0  509   LARCENY-NON VEHICLE 2010-10-31  33.77101           610 SPRING ST NW   \n",
       "1  401            AUTO THEFT 2010-10-31  33.74057              850 OAK ST SW   \n",
       "2  301  LARCENY-FROM VEHICLE 2010-10-31  33.71803  1344 METROPOLITAN PKWY SW   \n",
       "\n",
       "       long        neighborhood npu       number  \n",
       "0 -84.38895            Downtown   M  103040029.0  \n",
       "1 -84.41680            West End   T  103040061.0  \n",
       "2 -84.40774  Capitol View Manor   X  103040169.0  "
      ]
     },
     "execution_count": 213,
     "metadata": {},
     "output_type": "execute_result"
    }
   ],
   "source": [
    "crime.head(3)"
   ]
  },
  {
   "cell_type": "code",
   "execution_count": 214,
   "metadata": {},
   "outputs": [],
   "source": [
    "def groupdf(df,date1,date2):\n",
    "    df1= df[(df['date']>=date1)&(df['date']<=date2)]\n",
    "    result=df1.groupby([\"lat\",\"long\"]).agg({'number':'count'}).reset_index()\n",
    "    return result "
   ]
  },
  {
   "cell_type": "code",
   "execution_count": 215,
   "metadata": {},
   "outputs": [],
   "source": [
    "ag1=groupdf(crime,'2010-01-01','2010-12-31')\n",
    "ag2=groupdf(crime,'2011-01-01','2011-12-31')\n",
    "ag3=groupdf(crime,'2012-01-01','2012-12-31')\n",
    "ag4=groupdf(crime,'2013-01-01','2013-12-31')\n",
    "ag5=groupdf(crime,'2014-01-01','2014-12-31')\n",
    "ag6=groupdf(crime,'2015-01-01','2015-12-31')\n",
    "ag7=groupdf(crime,'2016-01-01','2016-12-31')"
   ]
  },
  {
   "cell_type": "code",
   "execution_count": 216,
   "metadata": {},
   "outputs": [],
   "source": [
    "crime_per=pd.concat([ag1,ag2,ag3,ag4,ag5,ag6,ag7])"
   ]
  },
  {
   "cell_type": "code",
   "execution_count": 217,
   "metadata": {},
   "outputs": [],
   "source": [
    "crime_p=crime_per.groupby([\"lat\",\"long\"]).agg({'number':'mean'}).reset_index()"
   ]
  },
  {
   "cell_type": "code",
   "execution_count": 218,
   "metadata": {},
   "outputs": [],
   "source": [
    "crime_p['number']=round(crime_p['number'],2)"
   ]
  },
  {
   "cell_type": "code",
   "execution_count": 219,
   "metadata": {},
   "outputs": [
    {
     "data": {
      "text/html": [
       "<div>\n",
       "<style scoped>\n",
       "    .dataframe tbody tr th:only-of-type {\n",
       "        vertical-align: middle;\n",
       "    }\n",
       "\n",
       "    .dataframe tbody tr th {\n",
       "        vertical-align: top;\n",
       "    }\n",
       "\n",
       "    .dataframe thead th {\n",
       "        text-align: right;\n",
       "    }\n",
       "</style>\n",
       "<table border=\"1\" class=\"dataframe\">\n",
       "  <thead>\n",
       "    <tr style=\"text-align: right;\">\n",
       "      <th></th>\n",
       "      <th>lat</th>\n",
       "      <th>long</th>\n",
       "      <th>number</th>\n",
       "    </tr>\n",
       "  </thead>\n",
       "  <tbody>\n",
       "    <tr>\n",
       "      <th>0</th>\n",
       "      <td>33.62176</td>\n",
       "      <td>-84.44794</td>\n",
       "      <td>1.0</td>\n",
       "    </tr>\n",
       "    <tr>\n",
       "      <th>1</th>\n",
       "      <td>33.62505</td>\n",
       "      <td>-84.42445</td>\n",
       "      <td>1.0</td>\n",
       "    </tr>\n",
       "    <tr>\n",
       "      <th>2</th>\n",
       "      <td>33.62522</td>\n",
       "      <td>-84.43101</td>\n",
       "      <td>1.0</td>\n",
       "    </tr>\n",
       "  </tbody>\n",
       "</table>\n",
       "</div>"
      ],
      "text/plain": [
       "        lat      long  number\n",
       "0  33.62176 -84.44794     1.0\n",
       "1  33.62505 -84.42445     1.0\n",
       "2  33.62522 -84.43101     1.0"
      ]
     },
     "execution_count": 219,
     "metadata": {},
     "output_type": "execute_result"
    }
   ],
   "source": [
    "crime_p.head(3)"
   ]
  },
  {
   "cell_type": "code",
   "execution_count": 220,
   "metadata": {},
   "outputs": [],
   "source": [
    "# convert crime to geopandas df \n",
    "gdf = gpd.GeoDataFrame(\n",
    "    crime_p, geometry=gpd.points_from_xy(crime_p.long, crime_p.lat))"
   ]
  },
  {
   "cell_type": "markdown",
   "metadata": {},
   "source": [
    "# assign nearest way to the crime point "
   ]
  },
  {
   "cell_type": "code",
   "execution_count": 221,
   "metadata": {},
   "outputs": [],
   "source": [
    "def ckdnearest(gdfA, gdfB, gdfB_cols=['id']):\n",
    "    A = np.concatenate(\n",
    "        [np.array(geom.coords) for geom in gdfA.geometry.to_list()])\n",
    "    B = [np.array(geom.coords) for geom in gdfB.geometry.to_list()]\n",
    "    B_ix = tuple(itertools.chain.from_iterable(\n",
    "        [itertools.repeat(i, x) for i, x in enumerate(list(map(len, B)))]))\n",
    "    B = np.concatenate(B)\n",
    "    ckd_tree = cKDTree(B)\n",
    "    dist, idx = ckd_tree.query(A, k=1)\n",
    "    idx = itemgetter(*idx)(B_ix)\n",
    "    gdf = pd.concat(\n",
    "        [gdfA, gdfB.loc[idx, gdfB_cols].reset_index(drop=True),\n",
    "         pd.Series(dist, name='dist')], axis=1)\n",
    "    return gdf"
   ]
  },
  {
   "cell_type": "code",
   "execution_count": 222,
   "metadata": {},
   "outputs": [],
   "source": [
    "crime_way=ckdnearest(gdf, way, gdfB_cols=['id'])"
   ]
  },
  {
   "cell_type": "code",
   "execution_count": 223,
   "metadata": {},
   "outputs": [
    {
     "data": {
      "text/html": [
       "<div>\n",
       "<style scoped>\n",
       "    .dataframe tbody tr th:only-of-type {\n",
       "        vertical-align: middle;\n",
       "    }\n",
       "\n",
       "    .dataframe tbody tr th {\n",
       "        vertical-align: top;\n",
       "    }\n",
       "\n",
       "    .dataframe thead th {\n",
       "        text-align: right;\n",
       "    }\n",
       "</style>\n",
       "<table border=\"1\" class=\"dataframe\">\n",
       "  <thead>\n",
       "    <tr style=\"text-align: right;\">\n",
       "      <th></th>\n",
       "      <th>lat</th>\n",
       "      <th>long</th>\n",
       "      <th>number</th>\n",
       "      <th>geometry</th>\n",
       "      <th>id</th>\n",
       "      <th>dist</th>\n",
       "    </tr>\n",
       "  </thead>\n",
       "  <tbody>\n",
       "    <tr>\n",
       "      <th>0</th>\n",
       "      <td>33.62176</td>\n",
       "      <td>-84.44794</td>\n",
       "      <td>1.0</td>\n",
       "      <td>POINT (-84.44794 33.62176)</td>\n",
       "      <td>way/133115249</td>\n",
       "      <td>0.000112</td>\n",
       "    </tr>\n",
       "    <tr>\n",
       "      <th>1</th>\n",
       "      <td>33.62505</td>\n",
       "      <td>-84.42445</td>\n",
       "      <td>1.0</td>\n",
       "      <td>POINT (-84.42445 33.62505)</td>\n",
       "      <td>way/41446011</td>\n",
       "      <td>0.000092</td>\n",
       "    </tr>\n",
       "    <tr>\n",
       "      <th>2</th>\n",
       "      <td>33.62522</td>\n",
       "      <td>-84.43101</td>\n",
       "      <td>1.0</td>\n",
       "      <td>POINT (-84.43101 33.62522)</td>\n",
       "      <td>way/287413972</td>\n",
       "      <td>0.000039</td>\n",
       "    </tr>\n",
       "  </tbody>\n",
       "</table>\n",
       "</div>"
      ],
      "text/plain": [
       "        lat      long  number                    geometry             id  \\\n",
       "0  33.62176 -84.44794     1.0  POINT (-84.44794 33.62176)  way/133115249   \n",
       "1  33.62505 -84.42445     1.0  POINT (-84.42445 33.62505)   way/41446011   \n",
       "2  33.62522 -84.43101     1.0  POINT (-84.43101 33.62522)  way/287413972   \n",
       "\n",
       "       dist  \n",
       "0  0.000112  \n",
       "1  0.000092  \n",
       "2  0.000039  "
      ]
     },
     "execution_count": 223,
     "metadata": {},
     "output_type": "execute_result"
    }
   ],
   "source": [
    "crime_way.head(3)"
   ]
  },
  {
   "cell_type": "code",
   "execution_count": 224,
   "metadata": {},
   "outputs": [],
   "source": [
    "final_df= crime_way.groupby('id').agg({'number':'sum','dist':'mean'}).reset_index().rename(columns={'number':'crime_count','dist':'avg_distance'})"
   ]
  },
  {
   "cell_type": "code",
   "execution_count": 225,
   "metadata": {},
   "outputs": [],
   "source": [
    "final_df.to_csv(\"crime_link_way_new.csv\",index=False)"
   ]
  },
  {
   "cell_type": "code",
   "execution_count": 227,
   "metadata": {},
   "outputs": [
    {
     "data": {
      "text/html": [
       "<div>\n",
       "<style scoped>\n",
       "    .dataframe tbody tr th:only-of-type {\n",
       "        vertical-align: middle;\n",
       "    }\n",
       "\n",
       "    .dataframe tbody tr th {\n",
       "        vertical-align: top;\n",
       "    }\n",
       "\n",
       "    .dataframe thead th {\n",
       "        text-align: right;\n",
       "    }\n",
       "</style>\n",
       "<table border=\"1\" class=\"dataframe\">\n",
       "  <thead>\n",
       "    <tr style=\"text-align: right;\">\n",
       "      <th></th>\n",
       "      <th>id</th>\n",
       "      <th>crime_count</th>\n",
       "      <th>avg_distance</th>\n",
       "    </tr>\n",
       "  </thead>\n",
       "  <tbody>\n",
       "    <tr>\n",
       "      <th>0</th>\n",
       "      <td>way/101797829</td>\n",
       "      <td>1.0</td>\n",
       "      <td>0.000192</td>\n",
       "    </tr>\n",
       "    <tr>\n",
       "      <th>1</th>\n",
       "      <td>way/101797968</td>\n",
       "      <td>10.6</td>\n",
       "      <td>0.002257</td>\n",
       "    </tr>\n",
       "    <tr>\n",
       "      <th>2</th>\n",
       "      <td>way/107533616</td>\n",
       "      <td>2.0</td>\n",
       "      <td>0.000767</td>\n",
       "    </tr>\n",
       "    <tr>\n",
       "      <th>3</th>\n",
       "      <td>way/107533620</td>\n",
       "      <td>4.0</td>\n",
       "      <td>0.000453</td>\n",
       "    </tr>\n",
       "  </tbody>\n",
       "</table>\n",
       "</div>"
      ],
      "text/plain": [
       "              id  crime_count  avg_distance\n",
       "0  way/101797829          1.0      0.000192\n",
       "1  way/101797968         10.6      0.002257\n",
       "2  way/107533616          2.0      0.000767\n",
       "3  way/107533620          4.0      0.000453"
      ]
     },
     "execution_count": 227,
     "metadata": {},
     "output_type": "execute_result"
    }
   ],
   "source": [
    "final_df.head(4)"
   ]
  },
  {
   "cell_type": "code",
   "execution_count": null,
   "metadata": {},
   "outputs": [],
   "source": []
  }
 ],
 "metadata": {
  "kernelspec": {
   "display_name": "Python 3",
   "language": "python",
   "name": "python3"
  },
  "language_info": {
   "codemirror_mode": {
    "name": "ipython",
    "version": 3
   },
   "file_extension": ".py",
   "mimetype": "text/x-python",
   "name": "python",
   "nbconvert_exporter": "python",
   "pygments_lexer": "ipython3",
   "version": "3.7.2"
  }
 },
 "nbformat": 4,
 "nbformat_minor": 4
}
